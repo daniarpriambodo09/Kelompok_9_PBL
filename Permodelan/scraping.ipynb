{
 "cells": [
  {
   "cell_type": "code",
   "execution_count": 40,
   "metadata": {},
   "outputs": [],
   "source": [
    "from selenium import webdriver\n",
    "from selenium.webdriver.common.by import By\n",
    "from selenium.webdriver.chrome.service import Service\n",
    "from selenium.webdriver.chrome.options import Options\n",
    "from selenium.webdriver.support.ui import WebDriverWait\n",
    "from selenium.webdriver.support import expected_conditions as EC\n",
    "from selenium.webdriver.support.ui import Select\n",
    "import seaborn as sns\n",
    "import matplotlib.pyplot as plt\n",
    "import time\n",
    "import requests\n",
    "import pandas as pd"
   ]
  },
  {
   "cell_type": "code",
   "execution_count": 41,
   "metadata": {},
   "outputs": [
    {
     "name": "stdout",
     "output_type": "stream",
     "text": [
      "<Response [200]>\n"
     ]
    }
   ],
   "source": [
    "url = \"https://dataonline.bmkg.go.id/data-harian\"\n",
    "\n",
    "request = requests.get(url)\n",
    "print(request)"
   ]
  },
  {
   "cell_type": "code",
   "execution_count": 42,
   "metadata": {},
   "outputs": [],
   "source": [
    "service = Service('/home/daniar/Vs_Code/Kuliah/Semester 4/chromedriver')\n",
    "driver = webdriver.Chrome(service=service)\n",
    "driver.get(url)"
   ]
  },
  {
   "cell_type": "code",
   "execution_count": 43,
   "metadata": {},
   "outputs": [
    {
     "name": "stdout",
     "output_type": "stream",
     "text": [
      "OKE\n"
     ]
    }
   ],
   "source": [
    "dropdown = Select(driver.find_element(By.NAME, \"type\"))\n",
    "dropdown.select_by_visible_text(\"UPT\")\n",
    "time.sleep(2)\n",
    "print(\"OKE\")"
   ]
  },
  {
   "cell_type": "code",
   "execution_count": 44,
   "metadata": {},
   "outputs": [
    {
     "name": "stdout",
     "output_type": "stream",
     "text": [
      "OKE\n"
     ]
    }
   ],
   "source": [
    "try :\n",
    "    checkboxes = driver.find_elements(By.XPATH, \"//input[@type='checkbox' and @name='parameter[]']\")\n",
    "    for cb in checkboxes:\n",
    "        if not cb.is_selected():\n",
    "            cb.click()\n",
    "    print(\"OKE\")\n",
    "    \n",
    "except:\n",
    "    print(\"GAGAL: Checkbox tidak ditemukan.\")"
   ]
  },
  {
   "cell_type": "code",
   "execution_count": 45,
   "metadata": {},
   "outputs": [
    {
     "name": "stdout",
     "output_type": "stream",
     "text": [
      "OKE\n"
     ]
    }
   ],
   "source": [
    "provinsi = Select(driver.find_element(By.NAME,\"provinsi\"))\n",
    "provinsi.select_by_visible_text(\"Jawa Timur\")\n",
    "\n",
    "if provinsi:\n",
    "    print(\"OKE\")"
   ]
  },
  {
   "cell_type": "code",
   "execution_count": 46,
   "metadata": {},
   "outputs": [
    {
     "name": "stdout",
     "output_type": "stream",
     "text": [
      "OKE\n"
     ]
    }
   ],
   "source": [
    "kabupaten = Select(driver.find_element(By.ID, \"idregency\"))\n",
    "kabupaten.select_by_visible_text(\"Kota Surabaya\")\n",
    "\n",
    "if kabupaten:\n",
    "    print(\"OKE\")"
   ]
  },
  {
   "cell_type": "code",
   "execution_count": 47,
   "metadata": {},
   "outputs": [
    {
     "name": "stdout",
     "output_type": "stream",
     "text": [
      "OKE\n"
     ]
    }
   ],
   "source": [
    "nama_stasiun = Select(driver.find_element(By.NAME, \"station_id\"))\n",
    "nama_stasiun.select_by_visible_text(\"Stasiun Meteorologi Perak I\")\n",
    "\n",
    "if nama_stasiun:\n",
    "    print(\"OKE\")"
   ]
  },
  {
   "cell_type": "code",
   "execution_count": 60,
   "metadata": {},
   "outputs": [
    {
     "name": "stdout",
     "output_type": "stream",
     "text": [
      "OKE\n"
     ]
    }
   ],
   "source": [
    "from selenium.webdriver.common.keys import Keys\n",
    "from_input = driver.find_element(By.ID, \"from\")\n",
    "from_input.clear()\n",
    "from_input.send_keys(\"22-4-2024\")\n",
    "from_input.send_keys(Keys.TAB)\n",
    "time.sleep(1)\n",
    "\n",
    "driver.execute_script(\"document.getElementById('to').removeAttribute('disabled')\")\n",
    "driver.execute_script(\"document.getElementById('to').removeAttribute('readonly')\")\n",
    "\n",
    "to_input = driver.find_element(By.ID, \"to\")\n",
    "to_input.clear()\n",
    "to_input.send_keys(\"23-5-2024\")\n",
    "to_input.send_keys(Keys.ENTER)\n",
    "\n",
    "\n",
    "if from_input and to_input:\n",
    "    print(\"OKE\")"
   ]
  },
  {
   "cell_type": "code",
   "execution_count": 56,
   "metadata": {},
   "outputs": [],
   "source": [
    "driver.find_element(By.ID, \"submitButton\").click()"
   ]
  },
  {
   "cell_type": "code",
   "execution_count": 17,
   "metadata": {},
   "outputs": [],
   "source": [
    "driver.find_element(By.ID, \"excelButton\").click()"
   ]
  }
 ],
 "metadata": {
  "kernelspec": {
   "display_name": "daily_venv",
   "language": "python",
   "name": "python3"
  },
  "language_info": {
   "codemirror_mode": {
    "name": "ipython",
    "version": 3
   },
   "file_extension": ".py",
   "mimetype": "text/x-python",
   "name": "python",
   "nbconvert_exporter": "python",
   "pygments_lexer": "ipython3",
   "version": "3.12.3"
  }
 },
 "nbformat": 4,
 "nbformat_minor": 2
}
