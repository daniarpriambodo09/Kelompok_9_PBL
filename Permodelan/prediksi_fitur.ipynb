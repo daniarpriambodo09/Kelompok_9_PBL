{
 "cells": [
  {
   "cell_type": "code",
   "execution_count": 84,
   "id": "73d86c23",
   "metadata": {},
   "outputs": [],
   "source": [
    "import pandas as pd\n",
    "import numpy as np\n",
    "from statsmodels.tsa.arima.model import ARIMA\n",
    "from sklearn.metrics import mean_squared_error\n",
    "import matplotlib.pyplot as plt\n",
    "from statsmodels.tsa.stattools import adfuller\n",
    "import warnings\n",
    "\n",
    "warnings.filterwarnings(\"ignore\") "
   ]
  },
  {
   "cell_type": "code",
   "execution_count": 85,
   "id": "dbe44ca0",
   "metadata": {},
   "outputs": [],
   "source": [
    "file_path = '/home/daniar/Vs_Code/Kuliah/Semester 4/TWS/Train Model/data/Jawa Timur_Kota Surabaya.csv'\n",
    "df = pd.read_csv(file_path)"
   ]
  },
  {
   "cell_type": "code",
   "execution_count": 86,
   "id": "69b1db39",
   "metadata": {},
   "outputs": [],
   "source": [
    "df['TANGGAL'] = pd.to_datetime(df['TANGGAL'])\n",
    "df = df.set_index('TANGGAL')"
   ]
  },
  {
   "cell_type": "code",
   "execution_count": 87,
   "id": "6dcb1e38",
   "metadata": {},
   "outputs": [],
   "source": [
    "features_to_predict_original = ['TN', 'TX', 'TAVG', 'RH_AVG', 'RR', 'SS']\n",
    "all_relevant_columns = features_to_predict_original + ['DDD_CAR']"
   ]
  },
  {
   "cell_type": "code",
   "execution_count": 88,
   "id": "6e679304",
   "metadata": {},
   "outputs": [],
   "source": [
    "for col in features_to_predict_original:\n",
    "    if col in df.columns:\n",
    "        df[col] = pd.to_numeric(df[col], errors='coerce')"
   ]
  },
  {
   "cell_type": "code",
   "execution_count": 89,
   "id": "605ad183",
   "metadata": {},
   "outputs": [],
   "source": [
    "compass_to_degrees = {\n",
    "    \"N\": 0, \"NNE\": 22.5, \"NE\": 45, \"ENE\": 67.5,\n",
    "    \"E\": 90, \"ESE\": 112.5, \"SE\": 135, \"SSE\": 157.5,\n",
    "    \"S\": 180, \"SSW\": 202.5, \"SW\": 225, \"WSW\": 247.5,\n",
    "    \"W\": 270, \"WNW\": 292.5, \"NW\": 315, \"NNW\": 337.5,\n",
    "    \"C\": 0\n",
    "}\n",
    "\n",
    "def direction_to_sin_cos(direction):\n",
    "    if pd.isna(direction) or direction not in compass_to_degrees:\n",
    "        return np.nan, np.nan\n",
    "    degree = compass_to_degrees[direction]\n",
    "    rad = np.deg2rad(degree)\n",
    "    return np.sin(rad), np.cos(rad)\n",
    "\n",
    "if 'DDD_CAR' in df.columns:\n",
    "    df['DDD_CAR'] = df['DDD_CAR'].astype(str).str.strip().str.upper()\n",
    "    df['WindDir_sin'], df['WindDir_cos'] = zip(*df['DDD_CAR'].map(direction_to_sin_cos))\n",
    "    df = df.drop(columns=['DDD_CAR'])\n",
    "else:\n",
    "    print(\"\\nDDD_CAR column not found. Skipping wind direction encoding.\")"
   ]
  },
  {
   "cell_type": "code",
   "execution_count": 90,
   "id": "39b1e48e",
   "metadata": {},
   "outputs": [],
   "source": [
    "features_for_modeling = features_to_predict_original[:] # Create a copy\n",
    "if 'WindDir_sin' in df.columns: \n",
    "    features_for_modeling.extend(['WindDir_sin', 'WindDir_cos'])\n",
    "\n",
    "for col in features_for_modeling:\n",
    "    if col in df.columns:\n",
    "        # Using linear interpolation for numeric columns\n",
    "        df[col] = df[col].interpolate(method='linear')\n",
    "        # Fill any remaining NaNs at the beginning or end\n",
    "        df[col] = df[col].fillna(method='ffill').fillna(method='bfill')\n",
    "    else:\n",
    "        print(f\"Warning: Column {col} not found for NaN handling after encoding.\")"
   ]
  },
  {
   "cell_type": "code",
   "execution_count": 91,
   "id": "c7741f3a",
   "metadata": {},
   "outputs": [],
   "source": [
    "df.dropna(subset=features_for_modeling, inplace=True)"
   ]
  },
  {
   "cell_type": "code",
   "execution_count": 92,
   "id": "c7342bf5",
   "metadata": {},
   "outputs": [],
   "source": [
    "def find_best_arima_order(series, p_range, d_range, q_range):\n",
    "    best_aic = np.inf\n",
    "    best_order = None\n",
    "    \n",
    "    if series.ndim > 1:\n",
    "        series = series.iloc[:,0] # Or series.squeeze()\n",
    "\n",
    "    for d in d_range:\n",
    "        for p in p_range:\n",
    "            for q in q_range:\n",
    "                try:\n",
    "                    model = ARIMA(series, order=(p,d,q))\n",
    "                    results = model.fit()\n",
    "                    if results.aic < best_aic:\n",
    "                        best_aic = results.aic\n",
    "                        best_order = (p,d,q)\n",
    "                except Exception as e:\n",
    "                    continue\n",
    "    return best_order"
   ]
  },
  {
   "cell_type": "code",
   "execution_count": 93,
   "id": "bfc3cc01",
   "metadata": {},
   "outputs": [],
   "source": [
    "p_values = range(0, 4) \n",
    "d_values = range(0, 2) \n",
    "q_values = range(0, 4) \n",
    "\n",
    "forecast_horizon = 21\n",
    "rmse_scores = {}\n",
    "future_forecasts_dict = {}\n",
    "\n",
    "train_df = df.iloc[:-forecast_horizon]\n",
    "test_df = df.iloc[-forecast_horizon:]"
   ]
  },
  {
   "cell_type": "code",
   "execution_count": 94,
   "id": "94620f27",
   "metadata": {},
   "outputs": [],
   "source": [
    "import joblib\n",
    "import os\n",
    "\n",
    "# Direktori penyimpanan model\n",
    "model_save_dir = 'saved_arima_models'\n",
    "os.makedirs(model_save_dir, exist_ok=True)\n",
    "\n",
    "for feature in features_for_modeling:\n",
    "    if feature not in df.columns or df[feature].isnull().all():\n",
    "        print(f\"\\nSkipping feature '{feature}' due to missing data or column not found.\")\n",
    "        continue\n",
    "    \n",
    "    series_train = train_df[feature].astype(np.float64)\n",
    "    series_test = test_df[feature].astype(np.float64)\n",
    "\n",
    "    if len(series_train) < (max(p_values) + max(d_values) + max(q_values) + 5) or len(series_train) < 10:\n",
    "        print(f\"Not enough data points for feature {feature} to reliably fit ARIMA. Skipping.\")\n",
    "        rmse_scores[feature] = np.nan\n",
    "        future_forecasts_dict[feature] = [np.nan] * forecast_horizon\n",
    "        continue\n",
    "\n",
    "    # Cari best ARIMA order\n",
    "    best_order = find_best_arima_order(series_train, p_values, d_values, q_values)\n",
    "    if best_order is None:\n",
    "        print(f\"Could not find a suitable ARIMA order for {feature}. Using default (1,1,1).\")\n",
    "        best_order = (1, 1, 1)\n",
    "\n",
    "    # Train on train set dan evaluasi dengan RMSE\n",
    "    try:\n",
    "        model_eval = ARIMA(series_train, order=best_order)\n",
    "        model_eval_fit = model_eval.fit()\n",
    "        predictions_test = model_eval_fit.forecast(steps=forecast_horizon)\n",
    "\n",
    "        if len(predictions_test) == len(series_test):\n",
    "            rmse = np.sqrt(mean_squared_error(series_test, predictions_test))\n",
    "            rmse_scores[feature] = rmse\n",
    "        else:\n",
    "            print(f\"Warning: Length mismatch for {feature}. Test: {len(series_test)}, Pred: {len(predictions_test)}. Skipping RMSE.\")\n",
    "            rmse_scores[feature] = np.nan\n",
    "\n",
    "    except Exception as e:\n",
    "        print(f\"Error during evaluation model fitting or prediction for {feature}: {e}\")\n",
    "        rmse_scores[feature] = np.nan\n",
    "\n",
    "    # Retrain dengan full data dan forecast masa depan\n",
    "    full_series = df[feature].astype(np.float64)\n",
    "    try:\n",
    "        model_future = ARIMA(full_series, order=best_order)\n",
    "        model_future_fit = model_future.fit()\n",
    "        future_forecast_values = model_future_fit.forecast(steps=forecast_horizon)\n",
    "        future_forecasts_dict[feature] = future_forecast_values\n",
    "\n",
    "    except Exception as e:\n",
    "        print(f\"Error during final model fitting or future forecasting for {feature}: {e}\")\n",
    "        future_forecasts_dict[feature] = [np.nan] * forecast_horizon\n"
   ]
  },
  {
   "cell_type": "code",
   "execution_count": 95,
   "id": "34cf3b0f",
   "metadata": {},
   "outputs": [],
   "source": [
    "# print(\"\\n--- RMSE Scores for Each Feature (on Test Set) ---\")\n",
    "# if rmse_scores:\n",
    "#     for feature, rmse in rmse_scores.items():\n",
    "#         if pd.notna(rmse):\n",
    "#             print(f\"RMSE for {feature}: {rmse:.4f}\")\n",
    "#         else:\n",
    "#             print(f\"RMSE for {feature}: Not available\")\n",
    "# else:\n",
    "#     print(\"No RMSE scores were calculated.\")\n"
   ]
  },
  {
   "cell_type": "code",
   "execution_count": 97,
   "id": "bdcbf6e0",
   "metadata": {},
   "outputs": [
    {
     "name": "stdout",
     "output_type": "stream",
     "text": [
      "\n",
      "--- Forecasts for the Next 21 Days ---\n",
      "               TN     TX   TAVG  RH_AVG    RR    SS  WindDir_sin  WindDir_cos\n",
      "2025-05-30  26.40  33.35  29.22   79.34  4.20  3.53         0.19         0.59\n",
      "2025-05-31  26.17  33.37  29.00   80.05  3.92  3.68         0.23         0.57\n",
      "2025-06-01  26.08  33.36  28.82   80.89  1.64  3.79         0.25         0.68\n",
      "2025-06-02  26.04  33.20  28.83   80.93  5.32  3.86         0.27         0.58\n",
      "2025-06-03  26.02  33.14  28.76   81.31  2.04  3.90         0.28         0.54\n",
      "2025-06-04  26.00  33.10  28.80   81.20  3.36  3.94         0.28         0.66\n",
      "2025-06-05  25.99  33.06  28.75   81.41  4.59  3.96         0.29         0.61\n",
      "2025-06-06  25.98  33.04  28.79   81.29  1.46  3.97         0.29         0.53\n",
      "2025-06-07  25.97  33.02  28.76   81.43  4.94  3.98         0.29         0.64\n",
      "2025-06-08  25.95  33.01  28.79   81.33  2.79  3.99         0.29         0.64\n",
      "2025-06-09  25.94  33.00  28.76   81.42  2.61  3.99         0.29         0.53\n",
      "2025-06-10  25.93  32.99  28.78   81.35  4.98  3.99         0.29         0.61\n",
      "2025-06-11  25.92  32.99  28.76   81.42  1.61  4.00         0.29         0.66\n",
      "2025-06-12  25.91  32.98  28.78   81.36  4.34  4.00         0.29         0.54\n",
      "2025-06-13  25.91  32.98  28.76   81.41  3.54  4.00         0.29         0.58\n",
      "2025-06-14  25.90  32.98  28.78   81.36  2.07  4.00         0.29         0.67\n",
      "2025-06-15  25.89  32.98  28.76   81.40  5.05  4.00         0.29         0.57\n",
      "2025-06-16  25.88  32.98  28.78   81.37  2.03  4.00         0.29         0.55\n",
      "2025-06-17  25.87  32.98  28.77   81.40  3.64  4.00         0.29         0.66\n",
      "2025-06-18  25.87  32.98  28.78   81.37  4.18  4.00         0.29         0.60\n",
      "2025-06-19  25.86  32.98  28.77   81.40  1.80  4.00         0.29         0.54\n"
     ]
    }
   ],
   "source": [
    "# Create a DataFrame for future forecasts\n",
    "last_date = df.index[-1]\n",
    "future_dates = pd.date_range(start=last_date + pd.Timedelta(days=1), periods=forecast_horizon, freq='D')\n",
    "forecast_df = pd.DataFrame(index=future_dates)\n",
    "\n",
    "print(\"\\n--- Forecasts for the Next 21 Days ---\")\n",
    "if future_forecasts_dict:\n",
    "    for feature, forecasts in future_forecasts_dict.items():\n",
    "        forecast_df[feature] = round(forecasts,2)\n",
    "    print(forecast_df)\n",
    "else:\n",
    "    print(\"No forecasts were generated.\")"
   ]
  }
 ],
 "metadata": {
  "kernelspec": {
   "display_name": "daily_venv",
   "language": "python",
   "name": "python3"
  },
  "language_info": {
   "codemirror_mode": {
    "name": "ipython",
    "version": 3
   },
   "file_extension": ".py",
   "mimetype": "text/x-python",
   "name": "python",
   "nbconvert_exporter": "python",
   "pygments_lexer": "ipython3",
   "version": "3.12.3"
  }
 },
 "nbformat": 4,
 "nbformat_minor": 5
}
